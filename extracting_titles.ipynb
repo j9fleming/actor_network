{
 "cells": [
  {
   "cell_type": "markdown",
   "id": "1fbc6d8e",
   "metadata": {},
   "source": [
    "We're collecting all movie titles that were released in past 3 years\n",
    "- tconst (string) - alphanumeric unique identifier of the title\n",
    "- titleType (string) – the type/format of the title (e.g. movie, short, tvseries, tvepisode, video, etc)\n",
    "- primaryTitle (string) – the more popular title / the title used by the filmmakers on promotional materials at the point of release\n",
    "- originalTitle (string) - original title, in the original language\n",
    "- isAdult (boolean) - 0: non-adult title; 1: adult title\n",
    "- startYear (YYYY) – represents the release year of a title. In the case of TV Series, it is the series start year\n",
    "- endYear (YYYY) – TV Series end year. ‘\\N’ for all other title types\n",
    "- runtimeMinutes – primary runtime of the title, in minutes\n",
    "- genres (string array) – includes up to three genres associated with the title"
   ]
  },
  {
   "cell_type": "code",
   "execution_count": 3,
   "id": "97b2bf68",
   "metadata": {},
   "outputs": [
    {
     "name": "stderr",
     "output_type": "stream",
     "text": [
      "/var/folders/dc/vrkpj_9d26q4h3tglkbvfflr0000gn/T/ipykernel_59498/1546007053.py:2: DtypeWarning: Columns (4,5) have mixed types. Specify dtype option on import or set low_memory=False.\n",
      "  titles_df = pd.read_csv(\"~/soc_final/data.tsv\", sep = '\\t')\n"
     ]
    }
   ],
   "source": [
    "import pandas as pd\n",
    "titles_df = pd.read_csv(\"~/soc_final/data.tsv\", sep = '\\t')"
   ]
  },
  {
   "cell_type": "code",
   "execution_count": 7,
   "id": "9ef8a452",
   "metadata": {},
   "outputs": [
    {
     "data": {
      "text/plain": [
       "8966657"
      ]
     },
     "execution_count": 7,
     "metadata": {},
     "output_type": "execute_result"
    }
   ],
   "source": [
    "years = ['2019','2020','2021']\n",
    "movies_df = titles_df[(titles_df['titleType'].str.contains(\"movie\") &\n",
    "                       titles_df['startYear'].isin(years))]\n",
    "len(titles_df)"
   ]
  },
  {
   "cell_type": "code",
   "execution_count": 11,
   "id": "52f00b50",
   "metadata": {},
   "outputs": [
    {
     "data": {
      "text/plain": [
       "50551"
      ]
     },
     "execution_count": 11,
     "metadata": {},
     "output_type": "execute_result"
    }
   ],
   "source": [
    "len(movies_df)"
   ]
  },
  {
   "cell_type": "code",
   "execution_count": null,
   "id": "45896753",
   "metadata": {},
   "outputs": [],
   "source": []
  }
 ],
 "metadata": {
  "kernelspec": {
   "display_name": "Python 3 (ipykernel)",
   "language": "python",
   "name": "python3"
  },
  "language_info": {
   "codemirror_mode": {
    "name": "ipython",
    "version": 3
   },
   "file_extension": ".py",
   "mimetype": "text/x-python",
   "name": "python",
   "nbconvert_exporter": "python",
   "pygments_lexer": "ipython3",
   "version": "3.10.3"
  }
 },
 "nbformat": 4,
 "nbformat_minor": 5
}
