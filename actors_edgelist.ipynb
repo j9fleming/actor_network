{
 "cells": [
  {
   "cell_type": "code",
   "execution_count": 38,
   "id": "6af69f14",
   "metadata": {},
   "outputs": [],
   "source": [
    "#loading pandas and csv file\n",
    "import pandas as pd\n",
    "#titles_principasl_csv\n",
    "titles_crew_df = pd.read_csv(\"~/titles_cast.tsv\", sep = '\\t')\n",
    "#reading in title basics\n",
    "titles_df = pd.read_csv(\"~/soc_final/top_actors_titlebasics.csv\")\n",
    "actors_df = pd.read_csv(\"~/soc_final/top_actors_namebasics.csv\")"
   ]
  },
  {
   "cell_type": "code",
   "execution_count": 134,
   "id": "0237c135",
   "metadata": {},
   "outputs": [
    {
     "data": {
      "text/plain": [
       "299"
      ]
     },
     "execution_count": 134,
     "metadata": {},
     "output_type": "execute_result"
    }
   ],
   "source": [
    "len(actors_df)"
   ]
  },
  {
   "cell_type": "code",
   "execution_count": 68,
   "id": "a92c7272",
   "metadata": {},
   "outputs": [
    {
     "data": {
      "text/plain": [
       "858"
      ]
     },
     "execution_count": 68,
     "metadata": {},
     "output_type": "execute_result"
    }
   ],
   "source": [
    "#getting the titles\n",
    "titles = list()\n",
    "for ind in titles_df.index:\n",
    "    tconst = titles_df['tconst'][ind]\n",
    "    pn = titles_df['primaryTitle'][ind] \n",
    "    movie = [tconst, pn]\n",
    "    titles.append(movie)\n",
    "len(titles)"
   ]
  },
  {
   "cell_type": "code",
   "execution_count": 102,
   "id": "44237141",
   "metadata": {},
   "outputs": [
    {
     "data": {
      "text/plain": [
       "299"
      ]
     },
     "execution_count": 102,
     "metadata": {},
     "output_type": "execute_result"
    }
   ],
   "source": [
    "#getting name ids\n",
    "name_ids = set()\n",
    "for ind in actors_df.index:\n",
    "    name_ids.add(actors_df['nconst'][ind])\n",
    "len(name_ids)"
   ]
  },
  {
   "cell_type": "code",
   "execution_count": 43,
   "id": "c1bb109a",
   "metadata": {},
   "outputs": [
    {
     "data": {
      "text/plain": [
       "8530"
      ]
     },
     "execution_count": 43,
     "metadata": {},
     "output_type": "execute_result"
    }
   ],
   "source": [
    "# cuttung down titles_principals based on tv/films\n",
    "crew_df = titles_crew_df[titles_crew_df['tconst'].isin(titles_set)]\n",
    "len(crew_df)"
   ]
  },
  {
   "cell_type": "code",
   "execution_count": 44,
   "id": "3b8884ee",
   "metadata": {},
   "outputs": [
    {
     "data": {
      "text/plain": [
       "1174"
      ]
     },
     "execution_count": 44,
     "metadata": {},
     "output_type": "execute_result"
    }
   ],
   "source": [
    "# filtering crew_df to include on actors in our dataset\n",
    "crew_df = crew_df[crew_df['nconst'].isin(name_ids)]\n",
    "len(crew_df)"
   ]
  },
  {
   "cell_type": "code",
   "execution_count": 53,
   "id": "ee68ef92",
   "metadata": {},
   "outputs": [
    {
     "data": {
      "text/html": [
       "<div>\n",
       "<style scoped>\n",
       "    .dataframe tbody tr th:only-of-type {\n",
       "        vertical-align: middle;\n",
       "    }\n",
       "\n",
       "    .dataframe tbody tr th {\n",
       "        vertical-align: top;\n",
       "    }\n",
       "\n",
       "    .dataframe thead th {\n",
       "        text-align: right;\n",
       "    }\n",
       "</style>\n",
       "<table border=\"1\" class=\"dataframe\">\n",
       "  <thead>\n",
       "    <tr style=\"text-align: right;\">\n",
       "      <th></th>\n",
       "      <th>tconst</th>\n",
       "      <th>ordering</th>\n",
       "      <th>nconst</th>\n",
       "      <th>primaryName</th>\n",
       "      <th>category</th>\n",
       "      <th>job</th>\n",
       "      <th>characters</th>\n",
       "    </tr>\n",
       "  </thead>\n",
       "  <tbody>\n",
       "    <tr>\n",
       "      <th>578230</th>\n",
       "      <td>tt0068646</td>\n",
       "      <td>2</td>\n",
       "      <td>nm0000199</td>\n",
       "      <td>Al Pacino</td>\n",
       "      <td>actor</td>\n",
       "      <td>\\N</td>\n",
       "      <td>[\"Michael\"]</td>\n",
       "    </tr>\n",
       "    <tr>\n",
       "      <th>595898</th>\n",
       "      <td>tt0070666</td>\n",
       "      <td>1</td>\n",
       "      <td>nm0000199</td>\n",
       "      <td>Al Pacino</td>\n",
       "      <td>actor</td>\n",
       "      <td>\\N</td>\n",
       "      <td>[\"Serpico\"]</td>\n",
       "    </tr>\n",
       "    <tr>\n",
       "      <th>614345</th>\n",
       "      <td>tt0072730</td>\n",
       "      <td>1</td>\n",
       "      <td>nm0000467</td>\n",
       "      <td>Don Johnson</td>\n",
       "      <td>actor</td>\n",
       "      <td>\\N</td>\n",
       "      <td>[\"Vic\"]</td>\n",
       "    </tr>\n",
       "    <tr>\n",
       "      <th>615795</th>\n",
       "      <td>tt0072890</td>\n",
       "      <td>1</td>\n",
       "      <td>nm0000199</td>\n",
       "      <td>Al Pacino</td>\n",
       "      <td>actor</td>\n",
       "      <td>\\N</td>\n",
       "      <td>[\"Sonny\"]</td>\n",
       "    </tr>\n",
       "    <tr>\n",
       "      <th>636931</th>\n",
       "      <td>tt0075314</td>\n",
       "      <td>1</td>\n",
       "      <td>nm0000134</td>\n",
       "      <td>Robert De Niro</td>\n",
       "      <td>actor</td>\n",
       "      <td>\\N</td>\n",
       "      <td>[\"Travis Bickle\"]</td>\n",
       "    </tr>\n",
       "    <tr>\n",
       "      <th>...</th>\n",
       "      <td>...</td>\n",
       "      <td>...</td>\n",
       "      <td>...</td>\n",
       "      <td>...</td>\n",
       "      <td>...</td>\n",
       "      <td>...</td>\n",
       "      <td>...</td>\n",
       "    </tr>\n",
       "    <tr>\n",
       "      <th>49762105</th>\n",
       "      <td>tt9779516</td>\n",
       "      <td>1</td>\n",
       "      <td>nm6216001</td>\n",
       "      <td>K.J. Apa</td>\n",
       "      <td>actor</td>\n",
       "      <td>\\N</td>\n",
       "      <td>[\"Jeremy\"]</td>\n",
       "    </tr>\n",
       "    <tr>\n",
       "      <th>49762106</th>\n",
       "      <td>tt9779516</td>\n",
       "      <td>2</td>\n",
       "      <td>nm1429380</td>\n",
       "      <td>Britt Robertson</td>\n",
       "      <td>actress</td>\n",
       "      <td>\\N</td>\n",
       "      <td>[\"Melissa\"]</td>\n",
       "    </tr>\n",
       "    <tr>\n",
       "      <th>49947812</th>\n",
       "      <td>tt9844522</td>\n",
       "      <td>1</td>\n",
       "      <td>nm5347988</td>\n",
       "      <td>Taylor Russell</td>\n",
       "      <td>actress</td>\n",
       "      <td>\\N</td>\n",
       "      <td>[\"Zoey Davis\"]</td>\n",
       "    </tr>\n",
       "    <tr>\n",
       "      <th>49947813</th>\n",
       "      <td>tt9844522</td>\n",
       "      <td>2</td>\n",
       "      <td>nm2383250</td>\n",
       "      <td>Logan Miller</td>\n",
       "      <td>actor</td>\n",
       "      <td>\\N</td>\n",
       "      <td>[\"Ben Miller\"]</td>\n",
       "    </tr>\n",
       "    <tr>\n",
       "      <th>50080873</th>\n",
       "      <td>tt9893250</td>\n",
       "      <td>3</td>\n",
       "      <td>nm2555462</td>\n",
       "      <td>Eiza González</td>\n",
       "      <td>actress</td>\n",
       "      <td>\\N</td>\n",
       "      <td>[\"Fran\"]</td>\n",
       "    </tr>\n",
       "  </tbody>\n",
       "</table>\n",
       "<p>1174 rows × 7 columns</p>\n",
       "</div>"
      ],
      "text/plain": [
       "             tconst  ordering     nconst      primaryName category job  \\\n",
       "578230    tt0068646         2  nm0000199        Al Pacino    actor  \\N   \n",
       "595898    tt0070666         1  nm0000199        Al Pacino    actor  \\N   \n",
       "614345    tt0072730         1  nm0000467      Don Johnson    actor  \\N   \n",
       "615795    tt0072890         1  nm0000199        Al Pacino    actor  \\N   \n",
       "636931    tt0075314         1  nm0000134   Robert De Niro    actor  \\N   \n",
       "...             ...       ...        ...              ...      ...  ..   \n",
       "49762105  tt9779516         1  nm6216001         K.J. Apa    actor  \\N   \n",
       "49762106  tt9779516         2  nm1429380  Britt Robertson  actress  \\N   \n",
       "49947812  tt9844522         1  nm5347988   Taylor Russell  actress  \\N   \n",
       "49947813  tt9844522         2  nm2383250     Logan Miller    actor  \\N   \n",
       "50080873  tt9893250         3  nm2555462    Eiza González  actress  \\N   \n",
       "\n",
       "                 characters  \n",
       "578230          [\"Michael\"]  \n",
       "595898          [\"Serpico\"]  \n",
       "614345              [\"Vic\"]  \n",
       "615795            [\"Sonny\"]  \n",
       "636931    [\"Travis Bickle\"]  \n",
       "...                     ...  \n",
       "49762105         [\"Jeremy\"]  \n",
       "49762106        [\"Melissa\"]  \n",
       "49947812     [\"Zoey Davis\"]  \n",
       "49947813     [\"Ben Miller\"]  \n",
       "50080873           [\"Fran\"]  \n",
       "\n",
       "[1174 rows x 7 columns]"
      ]
     },
     "execution_count": 53,
     "metadata": {},
     "output_type": "execute_result"
    }
   ],
   "source": [
    "#adding names to crew_df\n",
    "names = list()\n",
    "for ind in crew_df.index:\n",
    "    nconst = crew_df['nconst'][ind]\n",
    "    row = actors_df[actors_df['nconst'] == nconst]\n",
    "    name = row.primaryName.item()\n",
    "    names.append(name)\n",
    "\n",
    "#make sure not to insert multiple times\n",
    "if 'primaryName' not in crew_df:\n",
    "    crew_df.insert(3,'primaryName',names,True)\n",
    "\n",
    "crew_df\n"
   ]
  },
  {
   "cell_type": "code",
   "execution_count": 87,
   "id": "f082d178",
   "metadata": {},
   "outputs": [],
   "source": [
    "#creating a dictionary\n",
    "connections = dict()\n",
    "for m in titles:\n",
    "    tconst = m[0]\n",
    "    if len(crew_df[crew_df['tconst'] == tconst]) > 1:\n",
    "        rows = crew_df[crew_df['tconst'] == tconst]\n",
    "        crew = list()\n",
    "        #print(m[1])\n",
    "        for ind in rows.index:\n",
    "            idname = rows['nconst'][ind]\n",
    "            name = rows['primaryName'][ind]\n",
    "            actor = [idname,name]\n",
    "            crew.append(actor)\n",
    "        connections[m[1]] = crew\n",
    "            #print(idname + \", \" + name)\n",
    "        #print()\n",
    "\n",
    "\n",
    "#for key in connections:\n",
    "    #print(key)\n",
    "    #for i in connections[key]:\n",
    "     #   print(i)\n",
    "        #prints out idname, name\n",
    "    #print()\n",
    "         "
   ]
  },
  {
   "cell_type": "code",
   "execution_count": 117,
   "id": "2d00e0a9",
   "metadata": {},
   "outputs": [],
   "source": [
    "#key of dictionary will be [\"actor 1\",\"actor 2\" ], value = weight\n",
    "edgelist = dict()\n",
    "for key in connections:\n",
    "    #print(key)\n",
    "    for i in range(0,len(connections[key]) - 1):\n",
    "        a1 = connections[key][i][1]\n",
    "        #print(a1)\n",
    "        for i2 in range(i + 1,len(connections[key])):\n",
    "            a2 = connections[key][i2][1]\n",
    "            #print(a2)\n",
    "            k = a1 + \",\" + a2\n",
    "            if k not in edgelist.keys():\n",
    "                edgelist[k] = 1\n",
    "               # print(\"key: \" + k)\n",
    "            else:\n",
    "                edgelist[k] += 1\n",
    "            #print(\"key: \" + k)\n",
    "   # print()\n",
    "\n",
    "#for key in edgelist:\n",
    "    #print(key + \": \" + str(edgelist[key]))"
   ]
  },
  {
   "cell_type": "code",
   "execution_count": 136,
   "id": "45216502",
   "metadata": {},
   "outputs": [],
   "source": [
    "#creating the dataframe with to,from,weights\n",
    "edge_df = pd.DataFrame(columns = ['to','from','weight'])\n",
    "for key in edgelist:\n",
    "    actors = key.split(\",\")\n",
    "    a1 = actors[0]\n",
    "    a2 = actors[1]\n",
    "    weight = edgelist[key]\n",
    "    link = {'to': [a1], 'from': [a2], 'weight':[weight]}\n",
    "    row = pd.DataFrame(data = link)\n",
    "   # print(row)\n",
    "    edge_df = pd.concat([edge_df, row], ignore_index = True)\n"
   ]
  },
  {
   "cell_type": "code",
   "execution_count": 133,
   "id": "ccf066be",
   "metadata": {},
   "outputs": [],
   "source": [
    "\n",
    "#exporting\n",
    "#edge_df.to_csv('actors_edgelist.csv')"
   ]
  },
  {
   "cell_type": "code",
   "execution_count": 137,
   "id": "851cd201",
   "metadata": {},
   "outputs": [
    {
     "data": {
      "text/plain": [
       "299"
      ]
     },
     "execution_count": 137,
     "metadata": {},
     "output_type": "execute_result"
    }
   ],
   "source": [
    "#check if any actors are missing\n",
    "top_actors = actors_df['primaryName'].tolist()\n"
   ]
  },
  {
   "cell_type": "code",
   "execution_count": 140,
   "id": "d3978658",
   "metadata": {},
   "outputs": [
    {
     "name": "stdout",
     "output_type": "stream",
     "text": [
      "['Jim Carrey', 'Anthony Daniels', 'Mark Dacascos', 'Embeth Davidtz', 'Charlotte Rampling', 'Maggie Smith', 'Keri Russell', 'Kate Walsh', 'Nikki Amuka-Bird', 'Tadanobu Asano', 'Peter Capaldi', 'Nick Castle', 'Ken Leung', 'Lance Reddick', 'Hiroyuki Sanada', 'Penelope Wilton', 'Sharon Duncan-Brewster', 'Terry Notary', 'Zachary Levi', 'Lee Pace', 'Tony Jaa', 'Mehcad Brooks', 'Toby Kebbell', 'Sam Heughan', 'Keke Palmer', 'Jimmy Vee', 'Emun Elliott', 'Rebel Wilson', 'Cassidy Freeman', 'Alejandro Edda', 'Kaya Scodelario', 'Nick Jonas', 'Nathalie Emmanuel', 'Pom Klementieff', 'Rob Delaney', 'Asia Kate Dillon', 'Letitia Wright', 'Lauren Ridloff', 'Ali Wong', 'Issa Rae', 'Ella Jay Basco', 'Diana Taurasi', 'Klay Thompson', 'Lizzo', 'Joonas Suotamo', 'Katherine Langford', 'Brooklynn Prince', 'Cardi B', 'Don Johnson', 'Chang Chen', 'Ludacris', 'Logan Kim', 'Ma Dong-seok', 'LaKeith Stanfield', 'Trace Lysette', 'Damian Lillard', 'Henry Zaga', 'Blu Hunt', 'Aaron Pierre', \"Celeste O'Connor\"]\n"
     ]
    }
   ],
   "source": [
    "missing_actors = []\n",
    "for actor in top_actors:\n",
    "    if actor not in edge_df['to'].unique().tolist():\n",
    "        if actor not in edge_df['from'].unique().tolist():\n",
    "            missing_actors.append(actor)\n",
    "\n",
    "print(missing_actors)"
   ]
  },
  {
   "cell_type": "code",
   "execution_count": 145,
   "id": "b968aa00",
   "metadata": {},
   "outputs": [],
   "source": [
    "m_df = pd.DataFrame(missing_actors, columns=[\"names\"])\n",
    "m_df.to_csv(\"missing.csv\")"
   ]
  },
  {
   "cell_type": "code",
   "execution_count": null,
   "id": "a84db89a",
   "metadata": {},
   "outputs": [],
   "source": []
  }
 ],
 "metadata": {
  "kernelspec": {
   "display_name": "Python 3 (ipykernel)",
   "language": "python",
   "name": "python3"
  },
  "language_info": {
   "codemirror_mode": {
    "name": "ipython",
    "version": 3
   },
   "file_extension": ".py",
   "mimetype": "text/x-python",
   "name": "python",
   "nbconvert_exporter": "python",
   "pygments_lexer": "ipython3",
   "version": "3.10.3"
  }
 },
 "nbformat": 4,
 "nbformat_minor": 5
}
